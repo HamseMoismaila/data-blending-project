{
 "cells": [
  {
   "cell_type": "code",
   "execution_count": 9,
   "id": "c7a66baa-baee-456c-86f5-09aaab354260",
   "metadata": {},
   "outputs": [],
   "source": [
    "import pandas as pd\n"
   ]
  },
  {
   "cell_type": "code",
   "execution_count": 1,
   "id": "58508552-f286-4bbc-b01e-6b65a728b0ef",
   "metadata": {},
   "outputs": [],
   "source": [
    "from dotenv import load_dotenv\n",
    "import os\n",
    "\n",
    "load_dotenv()  # load variables from .env\n",
    "\n",
    "mysql_user = os.getenv(\"MYSQL_USER\")\n",
    "mysql_pass = os.getenv(\"MYSQL_PASSWORD\")\n",
    "mysql_host = os.getenv(\"MYSQL_HOST\")\n",
    "mysql_db = os.getenv(\"MYSQL_DB\")\n",
    "api_key = os.getenv(\"API_KEY\")\n"
   ]
  },
  {
   "cell_type": "code",
   "execution_count": 10,
   "id": "543042b1-b6af-45b0-ae1e-75c0c6b36ecb",
   "metadata": {},
   "outputs": [],
   "source": [
    "sales = pd.DataFrame({\n",
    "    \"order_id\" : [1,2,3,4],\n",
    "    \"customer_id\" : [1,2,3,1],\n",
    "    \"product_id\" : [101, 102, 103, 104],\n",
    "    \"amount\" : [200, 150, 300, 250]\n",
    "})\n",
    "\n",
    "\n",
    "sales.to_csv(\"../data/sales.csv\", index=False)"
   ]
  },
  {
   "cell_type": "code",
   "execution_count": 11,
   "id": "347d6d1e-7380-4532-9cca-ac04cf2d6568",
   "metadata": {},
   "outputs": [],
   "source": [
    "customers = pd.DataFrame({\n",
    "    \"customer_id\" : [1,2,3],\n",
    "    \"name\" : [\"Alice\", \"Bob\", \"Charlie\"],\n",
    "    \"region\" : [\"KL\", \"Penang\", \"Johor\"]\n",
    "})\n",
    "\n",
    "customers.to_csv(\"../data/customers.csv\", index=False)"
   ]
  },
  {
   "cell_type": "code",
   "execution_count": 12,
   "id": "c9465de5-01f2-464e-ab9a-a82839d8814d",
   "metadata": {},
   "outputs": [],
   "source": [
    "returns = pd.DataFrame({\n",
    "    \"order_id\" : [2, 4],\n",
    "    \"return_status\" : [\"Yes\", \"No\"]\n",
    "})\n",
    "\n",
    "returns.to_csv(\"../data/return.csv\", index=False)"
   ]
  },
  {
   "cell_type": "code",
   "execution_count": 13,
   "id": "b1d95b1a-ac59-457e-9d4b-593a33654453",
   "metadata": {},
   "outputs": [],
   "source": [
    "df = pd.DataFrame(returns)"
   ]
  },
  {
   "cell_type": "code",
   "execution_count": null,
   "id": "5fd093aa-d33e-4419-83b1-4e5baf7cd642",
   "metadata": {},
   "outputs": [],
   "source": []
  },
  {
   "cell_type": "code",
   "execution_count": null,
   "id": "854ce8f9-8564-4f31-bf69-bce18a071f78",
   "metadata": {},
   "outputs": [],
   "source": [
    "# Did Install MySQL Connector\n",
    "\n",
    "# Now code and fetchc from the mySQL dB \n"
   ]
  },
  {
   "cell_type": "code",
   "execution_count": 14,
   "id": "eb701a2c-5740-4106-9057-d4bd2ca2751b",
   "metadata": {},
   "outputs": [
    {
     "name": "stdout",
     "output_type": "stream",
     "text": [
      "(1, 1, 101, 2, '2025-09-01')\n",
      "(2, 2, 102, 1, '2025-09-02')\n",
      "(3, 3, 103, 4, '2025-09-07')\n",
      "(4, 1, 104, 1, '2025-09-07')\n"
     ]
    }
   ],
   "source": [
    "import mysql.connector\n",
    "\n",
    "\n",
    "conn = mysql.connector.connect(\n",
    "    host=\"mysql_host\", \n",
    "    user=\"mysql_user\", \n",
    "    password=\"mysql_pass\",\n",
    "    database=\"mysql_db\",\n",
    "    \n",
    ")\n",
    "\n",
    "\n",
    "\n",
    "# Query the database\n",
    "\n",
    "cursor = conn.cursor()\n",
    "\n",
    "cursor.execute(\"SELECT* FROM orders\")\n",
    "\n",
    "for row in cursor.fetchall():\n",
    "    print(row)\n",
    "\n",
    "cursor.close()\n",
    "\n",
    "conn.close()\n",
    "\n",
    "\n",
    "\n",
    "\n",
    "\n",
    " \n",
    " \n",
    "# query = 'SELECT * FROM orders;'\n",
    "# # orders_df = pd.read_sql(query, conn)\n",
    "\n",
    "# # conn.close()\n",
    "\n",
    "\n",
    "\n",
    "# # print(orders_df.head())"
   ]
  },
  {
   "cell_type": "code",
   "execution_count": null,
   "id": "01281b5d-5e2f-4fdd-ae36-379a846b7c92",
   "metadata": {},
   "outputs": [],
   "source": [
    "\n"
   ]
  },
  {
   "cell_type": "code",
   "execution_count": 16,
   "id": "27f7271e-9d68-4798-a1c5-608886599ad7",
   "metadata": {},
   "outputs": [
    {
     "name": "stderr",
     "output_type": "stream",
     "text": [
      "<>:10: SyntaxWarning: invalid escape sequence '\\d'\n",
      "<>:10: SyntaxWarning: invalid escape sequence '\\d'\n",
      "C:\\Users\\User\\AppData\\Local\\Temp\\ipykernel_21100\\1622984321.py:10: SyntaxWarning: invalid escape sequence '\\d'\n",
      "  output_file = \"C:\\data-blending-project\\sql\\creat_orders.sql\"\n"
     ]
    },
    {
     "name": "stdout",
     "output_type": "stream",
     "text": [
      "Database exported successfully to C:\\data-blending-project\\sql\\creat_orders.sql\n"
     ]
    }
   ],
   "source": [
    "# Exporting a MySQL Database to .sql File \n",
    "\n",
    "\n",
    "import os\n",
    "\n",
    "# DB credentials\n",
    "user = \"mysql_user\"\n",
    "password = \"mysql_pass\"\n",
    "database = \"mysql_db\"\n",
    "output_file = \"C:\\data-blending-project\\sql\\creat_orders.sql\"\n",
    "\n",
    "# Run mysqldump\n",
    "cmd = f'mysqldump -u {user} -p{password} {database} > \"{output_file}\"'\n",
    "os.system(cmd)\n",
    "\n",
    "print(f\"Database exported successfully to {output_file}\")\n"
   ]
  },
  {
   "cell_type": "code",
   "execution_count": 17,
   "id": "655128d7-f99e-43f8-8f11-4c24acda6c17",
   "metadata": {},
   "outputs": [],
   "source": [
    "sales_pd = pd.read_csv(\"../data/sales.csv\")"
   ]
  },
  {
   "cell_type": "code",
   "execution_count": 18,
   "id": "78e61b04-721f-459b-bb45-338a2bf1124a",
   "metadata": {},
   "outputs": [
    {
     "name": "stdout",
     "output_type": "stream",
     "text": [
      "   order_id  customer_id  product_id  amount\n",
      "0         1            1         101     200\n",
      "1         2            2         102     150\n",
      "2         3            3         103     300\n",
      "3         4            1         104     250\n"
     ]
    }
   ],
   "source": [
    "print(sales_pd)"
   ]
  },
  {
   "cell_type": "code",
   "execution_count": null,
   "id": "0c938adb-333c-4489-9b39-a4634d37099d",
   "metadata": {},
   "outputs": [],
   "source": []
  },
  {
   "cell_type": "code",
   "execution_count": null,
   "id": "9db48a04-a32a-4ce5-89f3-e4b36929eb00",
   "metadata": {},
   "outputs": [],
   "source": []
  },
  {
   "cell_type": "code",
   "execution_count": null,
   "id": "12c8f8de-9531-4df0-a13a-aa4daf5c1ac5",
   "metadata": {},
   "outputs": [],
   "source": []
  },
  {
   "cell_type": "code",
   "execution_count": 2,
   "id": "cbb012b2-59e3-4c4a-8eae-5565d9eab853",
   "metadata": {},
   "outputs": [
    {
     "name": "stdout",
     "output_type": "stream",
     "text": [
      " Weather data saved for: ['Kuala Lumpur', 'Singapore', 'Jakarta', 'Bangkok', 'Manila']\n"
     ]
    }
   ],
   "source": [
    "import requests, json\n",
    "\n",
    "api_key = \"api_key\"\n",
    "\n",
    "# List of cities you want to collect\n",
    "cities = [\"Kuala Lumpur\", \"Singapore\", \"Jakarta\", \"Bangkok\", \"Manila\"]\n",
    "\n",
    "weather_list = []\n",
    "\n",
    "for city in cities:\n",
    "    url = f\"http://api.openweathermap.org/data/2.5/weather?q={city}&appid={api_key}&units=metric\"\n",
    "    response = requests.get(url)\n",
    "    data = response.json()\n",
    "    \n",
    "    if data[\"cod\"] != 200:\n",
    "        print(f\" No data for {city}\")\n",
    "        continue\n",
    "\n",
    "    weather_list.append({\n",
    "        \"city\": data[\"name\"],\n",
    "        \"weather\": data[\"weather\"][0][\"main\"],\n",
    "        \"temperature_C\": round(data[\"main\"][\"temp\"], 1)\n",
    "    })\n",
    "\n",
    "# Save to JSON file\n",
    "with open(\"../data/api_data.json\", \"w\") as f:\n",
    "    json.dump(weather_list, f, indent=4)\n",
    "\n",
    "print(\" Weather data saved for:\", [w[\"city\"] for w in weather_list])\n"
   ]
  },
  {
   "cell_type": "code",
   "execution_count": 3,
   "id": "af797d91-d31c-42a7-8205-8e59d766d7fc",
   "metadata": {},
   "outputs": [
    {
     "name": "stdout",
     "output_type": "stream",
     "text": [
      "           city weather  temperature_C\n",
      "0  Kuala Lumpur  Clouds           28.4\n",
      "1     Singapore  Clouds           28.5\n",
      "2       Jakarta  Clouds           28.9\n",
      "3       Bangkok  Clouds           29.0\n",
      "4        Manila  Clouds           26.7\n"
     ]
    }
   ],
   "source": [
    "import pandas as pd\n",
    "import json\n",
    "\n",
    "with open(\"../data/api_data.json\", \"r\") as f:\n",
    "    weather_data = json.load(f)\n",
    "\n",
    "weather_df = pd.DataFrame(weather_data)\n",
    "print(weather_df)\n",
    "\n",
    "\n"
   ]
  },
  {
   "cell_type": "code",
   "execution_count": null,
   "id": "7cb8e29c-ffbd-4849-a070-dea557dd1405",
   "metadata": {},
   "outputs": [],
   "source": []
  },
  {
   "cell_type": "code",
   "execution_count": 4,
   "id": "21a1f296-fca5-4129-b535-8e05c4ff8ebe",
   "metadata": {},
   "outputs": [
    {
     "name": "stdout",
     "output_type": "stream",
     "text": [
      " Data Loaded\n"
     ]
    }
   ],
   "source": [
    "# Step 4 Data Blending Pipeline\n",
    "\n",
    "\n",
    "\n",
    "import pandas as pd\n",
    "import json\n",
    "from sqlalchemy import create_engine\n",
    "\n",
    "\n",
    "#  CSVs\n",
    "sales_df = pd.read_csv(\"../data/sales.csv\")\n",
    "customers_df = pd.read_csv(\"../data/customers.csv\")\n",
    "returns_df = pd.read_csv(\"../data/return.csv\")\n",
    "\n",
    "# MySQL with SQLAlchemy\n",
    "\n",
    "engine = create_engine(\"mysql+mysqlconnector://{mysql_user}:{mysql_pass}@l{mysql_host}:3306/{mysql_db}\")\n",
    "\n",
    "orders_df = pd.read_sql(\"SELECT * FROM orders;\", engine)\n",
    "\n",
    "\n",
    "# API (Weather JSON) \n",
    "\n",
    "with open(\"../data/api_data.json\", \"r\") as f:\n",
    "    weather_data = json.load(f)\n",
    "\n",
    "weather_df = pd.DataFrame(weather_data)\n",
    "\n",
    "print(\" Data Loaded\")\n",
    "\n"
   ]
  },
  {
   "cell_type": "code",
   "execution_count": 5,
   "id": "f76d32c7-0e12-4d97-b4a2-5f0c959ef3b0",
   "metadata": {},
   "outputs": [
    {
     "name": "stdout",
     "output_type": "stream",
     "text": [
      "City updated successfully in CSV!\n"
     ]
    }
   ],
   "source": [
    "\n",
    "import pandas as pd\n",
    "\n",
    "#  Load the CSV file\n",
    "df = pd.read_csv(\"../data/customers.csv\")\n",
    "\n",
    "# Update the city for the customer with id \n",
    "\n",
    "df.loc[df['customer_id'] == 1, 'region'] = \"Singapore\"\n",
    "df.loc[df['customer_id'] == 2, 'region'] = \"Jakarta\"\n",
    "df.loc[df['customer_id'] == 3, 'region'] = \"Manila\"\n",
    "\n",
    "\n",
    "\n",
    "\n",
    "\n",
    "# 3. Save changes back to CSV\n",
    "df.to_csv(\"../data/customers.csv\", index=False)\n",
    "\n",
    "print(\"City updated successfully in CSV!\")\n",
    "\n",
    "\n"
   ]
  },
  {
   "cell_type": "code",
   "execution_count": 6,
   "id": "a2d73167-b2b7-4773-b6a0-9a53174b4fcf",
   "metadata": {},
   "outputs": [
    {
     "name": "stdout",
     "output_type": "stream",
     "text": [
      "   order_id  customer_id  product_id  amount     name     region  quantity  \\\n",
      "0         1            1         101     200    Alice  Singapore         2   \n",
      "1         2            2         102     150      Bob    Jakarta         1   \n",
      "2         3            3         103     300  Charlie     Manila         4   \n",
      "3         4            1         104     250    Alice  Singapore         1   \n",
      "\n",
      "   order_date return_status  \n",
      "0  2025-09-01           NaN  \n",
      "1  2025-09-02           Yes  \n",
      "2  2025-09-07           NaN  \n",
      "3  2025-09-07            No  \n"
     ]
    }
   ],
   "source": [
    "# Blend CSV + Mysql\n",
    "import pandas as pd\n",
    "\n",
    "sales_customers = pd.merge(sales_df, customers_df, on=\"customer_id\", how=\"left\")\n",
    "\n",
    "sales_orders = pd.merge(sales_customers,orders_df, on=[\"order_id\", \"customer_id\",\"product_id\"], how=\"left\")\n",
    "\n",
    "sales_orders_returns = pd.merge(sales_orders, returns_df, on=\"order_id\", how=\"left\")\n",
    "\n",
    "print(sales_orders_returns.head())\n",
    "\n"
   ]
  },
  {
   "cell_type": "code",
   "execution_count": 7,
   "id": "17efb877-d01c-41b3-a3c3-33e5d46f4d2a",
   "metadata": {},
   "outputs": [
    {
     "name": "stdout",
     "output_type": "stream",
     "text": [
      "   order_id  customer_id  product_id  amount     name     region  quantity  \\\n",
      "0         1            1         101     200    Alice  Singapore         2   \n",
      "1         2            2         102     150      Bob    Jakarta         1   \n",
      "2         3            3         103     300  Charlie     Manila         4   \n",
      "3         4            1         104     250    Alice  Singapore         1   \n",
      "\n",
      "   order_date return_status       city weather  temperature_C  \n",
      "0  2025-09-01           NaN  Singapore  Clouds           28.5  \n",
      "1  2025-09-02           Yes    Jakarta  Clouds           28.9  \n",
      "2  2025-09-07           NaN     Manila  Clouds           26.7  \n",
      "3  2025-09-07            No  Singapore  Clouds           28.5  \n"
     ]
    }
   ],
   "source": [
    "# Merge with weather (assuming region = city)\n",
    "final_df = pd.merge(\n",
    "    sales_orders_returns,\n",
    "    weather_df,\n",
    "    left_on=\"region\",\n",
    "    right_on=\"city\",\n",
    "    how=\"left\"\n",
    ")\n",
    "\n",
    "print(final_df.head())\n",
    "\n"
   ]
  },
  {
   "cell_type": "code",
   "execution_count": 8,
   "id": "e8606feb-4a7a-499e-9ead-11f20025173f",
   "metadata": {},
   "outputs": [
    {
     "name": "stdout",
     "output_type": "stream",
     "text": [
      " Final blended dataset saved as blended_final.csv\n"
     ]
    }
   ],
   "source": [
    "final_df.to_csv(\"../data/blended_final.csv\", index=False)\n",
    "print(\" Final blended dataset saved as blended_final.csv\")\n",
    "\n"
   ]
  },
  {
   "cell_type": "code",
   "execution_count": 9,
   "id": "ba005240-1a40-4198-afef-c4f5e0e00d67",
   "metadata": {},
   "outputs": [
    {
     "name": "stdout",
     "output_type": "stream",
     "text": [
      "city\n",
      "Jakarta      150\n",
      "Manila       300\n",
      "Singapore    450\n",
      "Name: amount, dtype: int64\n",
      "city       return_status\n",
      "Jakarta    Yes              1\n",
      "Singapore  No               1\n",
      "Name: count, dtype: int64\n",
      "city\n",
      "Jakarta      28.9\n",
      "Manila       26.7\n",
      "Singapore    28.5\n",
      "Name: temperature_C, dtype: float64\n"
     ]
    }
   ],
   "source": [
    "\n",
    "# Analaysis\n",
    "\n",
    "\n",
    "# Total sales by city\n",
    "print(final_df.groupby(\"city\")[\"amount\"].sum())\n",
    "\n",
    "# Return status counts\n",
    "print(final_df.groupby(\"city\")[\"return_status\"].value_counts())\n",
    "\n",
    "# Average temperature per city\n",
    "print(final_df.groupby(\"city\")[\"temperature_C\"].mean())\n"
   ]
  }
 ],
 "metadata": {
  "kernelspec": {
   "display_name": "Python 3 (ipykernel)",
   "language": "python",
   "name": "python3"
  },
  "language_info": {
   "codemirror_mode": {
    "name": "ipython",
    "version": 3
   },
   "file_extension": ".py",
   "mimetype": "text/x-python",
   "name": "python",
   "nbconvert_exporter": "python",
   "pygments_lexer": "ipython3",
   "version": "3.12.3"
  }
 },
 "nbformat": 4,
 "nbformat_minor": 5
}
